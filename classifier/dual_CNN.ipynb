{
 "cells": [
  {
   "cell_type": "code",
   "execution_count": 1,
   "metadata": {},
   "outputs": [],
   "source": [
    "import torch\n",
    "import torchvision.transforms as transforms\n",
    "import matplotlib.pyplot as plt\n",
    "import numpy as np\n",
    "import torch.nn as nn\n",
    "import torch.nn.functional as F\n",
    "import torch.optim as optim\n",
    "import argparse\n",
    "import os\n",
    "import numpy as np\n",
    "import matplotlib.pyplot as plt\n",
    "import pandas as pd\n",
    "import math\n",
    "import random\n",
    "import seaborn as sns\n",
    "from sklearn.metrics import accuracy_score, confusion_matrix, ConfusionMatrixDisplay, f1_score"
   ]
  },
  {
   "cell_type": "code",
   "execution_count": 6,
   "metadata": {},
   "outputs": [],
   "source": [
    "from dual_CNN import Net"
   ]
  },
  {
   "cell_type": "code",
   "execution_count": 7,
   "metadata": {},
   "outputs": [],
   "source": [
    "input_cov = '../data/v1.5.2/graph_cov_low_100'\n",
    "input_lapl = '../data/v1.5.2/graph_lapl_low_50' \n",
    "batch_size = 10\n",
    "upper, revert, over_conn = True, False, True"
   ]
  },
  {
   "cell_type": "code",
   "execution_count": 8,
   "metadata": {},
   "outputs": [],
   "source": [
    "def over_connected(graph, upper, is_cov) :\n",
    "\n",
    "    G = graph.flatten()\n",
    "    cross_thr, full_thr = 50, 70\n",
    "    # No such over-connected graphs in covariance matrices and not same thresholds with Laplacian (revert==True)\n",
    "    if is_cov : \n",
    "        return False\n",
    "    # If on full symmetric matrix, the threshold count of pixels has to be doubled\n",
    "    if not upper :\n",
    "        cross_thr = 2*cross_thr\n",
    "        full_thr = 2*full_thr\n",
    "    if (G > 0.6).sum() >= cross_thr :\n",
    "        return True\n",
    "    elif (G > 0.4).sum() >= full_thr : \n",
    "        return True\n",
    "    else : \n",
    "        return False\n",
    "\n",
    "def load_graphs(input_cov, input_lapl, class_dict, upper, revert, over_conn) :\n",
    "\n",
    "    data_cov, data_lapl, data_labels = [], [], [] # data contains the graphs as tensors and data_labels the associated seizure type labels\n",
    "    i = 0\n",
    "\n",
    "    for szr_type in class_dict.keys() :\n",
    "\n",
    "        szr_label = class_dict[szr_type]\n",
    "\n",
    "        over_idx = [] # list of index of the files that are kept\n",
    "\n",
    "        # Retrieve laplacian graphs\n",
    "        for _, _, lapl_files in os.walk(os.path.join(input_lapl,szr_type)) :\n",
    "            \n",
    "            for i, npy_file in enumerate(lapl_files) :\n",
    "                A = np.load(os.path.join(input_lapl,szr_type,npy_file))\n",
    "                # Normalise A (already normalised depending on the input)\n",
    "                A = A/np.amax(A.flatten())\n",
    "\n",
    "                if revert : L = np.diag(np.sum(A,axis=1)) - A\n",
    "                else : L = A\n",
    "                \n",
    "                # Only keep upper triangle as matrix is symmetric\n",
    "                if upper : L = np.triu(L, 0)\n",
    "\n",
    "                if over_conn : is_over_conn = over_connected(A, upper=False, is_cov=False)\n",
    "                else : is_over_conn = False\n",
    "\n",
    "                if not is_over_conn :\n",
    "\n",
    "                    # Change to tensor and reshape for dataloader\n",
    "                    L = torch.tensor(L).view(1,20,20)\n",
    "                    \n",
    "                    data_lapl.append(L)\n",
    "                    data_labels.append(szr_label)\n",
    "\n",
    "                    over_idx.append(i)\n",
    "\n",
    "        # Retrieve covariance graphs\n",
    "        for _, _, cov_files in os.walk(os.path.join(input_cov,szr_type)) :\n",
    "            \n",
    "            for j, npy_file in enumerate(cov_files) :\n",
    "\n",
    "                # If either over-connectivity is ignored or the corresponding adjacency graph was not deemed over-connected\n",
    "                if (not over_conn) or (j in over_idx) : \n",
    "\n",
    "                    A = np.load(os.path.join(input_cov,szr_type,npy_file))\n",
    "                    # Normalise A (already normalised depending on the input)\n",
    "                    L = A/np.amax(A.flatten())\n",
    "                    \n",
    "                    # Only keep upper triangle as matrix is symmetric\n",
    "                    if upper : L = np.triu(L, 0)\n",
    "                    # Change to tensor and reshape for dataloader\n",
    "                    L = torch.tensor(L).view(1,20,20)\n",
    "                    \n",
    "                    data_cov.append(L)\n",
    "                \n",
    "    \n",
    "    return np.array(data_cov, dtype=object), np.array(data_lapl, dtype=object), np.array(data_labels)\n",
    "\n",
    "def train_test_data(input_cov, input_lapl, class_dict, upper, revert, over_conn) :\n",
    "\n",
    "    train_cov, train_lapl, train_labels = load_graphs(os.path.join(input_cov,'train'), os.path.join(input_lapl,'train'), class_dict, upper, revert, over_conn)\n",
    "    test_cov, test_lapl, test_labels = load_graphs(os.path.join(input_cov,'dev'), os.path.join(input_lapl,'dev'), class_dict, upper, revert, over_conn)\n",
    "\n",
    "    return train_cov, train_lapl, test_cov, test_lapl, train_labels, test_labels\n",
    "\n",
    "def to_set(train_cov, train_lapl, test_cov, test_lapl, train_labels, test_labels) :\n",
    "\n",
    "    # Oversampling (train set only) to have balanced classification without dropping information\n",
    "    PD = pd.DataFrame(train_labels, columns=['label'])\n",
    "    no_0, no_1 = len(PD[PD['label']==0]), len(PD[PD['label']==1])\n",
    "    R = math.floor(no_0/no_1) # Multiply the dataset by this ratio, then add (no_0 - R*no_1) randomly selected entries from the smallest dataset\n",
    "\n",
    "    trainset, testset = [], []\n",
    "    for i in range(len(train_cov)) :\n",
    "        if train_labels[i] == 1 : # Under-represented class :\n",
    "            # The dataloader later shuffles the data\n",
    "            for r in range(R) :\n",
    "                trainset.append((torch.cat((train_cov[i], train_lapl[i]), 0),train_labels[i]))\n",
    "        else :\n",
    "            trainset.append((torch.cat((train_cov[i], train_lapl[i]), 0),train_labels[i]))\n",
    "    \n",
    "    # Compensate the remaining imbalance => draw (no_0 - R*no_1) elements from already present elements\n",
    "    Add = random.sample(PD[PD['label']==1].index.to_list(),no_0 - R*no_1)\n",
    "    for idx in Add :\n",
    "        trainset.append((torch.cat((train_cov[idx], train_lapl[idx]), 0),train_labels[idx]))\n",
    "\n",
    "    # Generate the testset\n",
    "    for j in range(len(test_cov)) :\n",
    "        testset.append((torch.cat((test_cov[j], test_lapl[j]), 0),test_labels[j]))\n",
    "\n",
    "    return trainset, testset\n",
    "\n",
    "def compute_accuracy(testloader, CNN, last_loss, classes, plot) :\n",
    "\n",
    "    correct = 0\n",
    "    total = 0\n",
    "\n",
    "    images = []\n",
    "    y_pred, y_true = [], []\n",
    "\n",
    "    # Prepare to count predictions for each class\n",
    "    correct_pred = {classname: 0 for classname in classes}\n",
    "    total_pred = {classname: 0 for classname in classes}\n",
    "\n",
    "    # Since we're not training, we don't need to calculate the gradients for our outputs\n",
    "    with torch.no_grad():\n",
    "        for data in testloader:\n",
    "            X_test, labels = data\n",
    "            X_test, labels = X_test.float(), labels.type(torch.LongTensor)\n",
    "            # Calculate outputs by running images through the network\n",
    "            outputs = CNN(X_test)\n",
    "\n",
    "            # The class with the highest energy is what we choose as prediction\n",
    "            _, predicted = torch.max(outputs.data, 1)\n",
    "            \n",
    "            images.extend([x.detach().numpy() for x in X_test])\n",
    "            y_true.extend(labels.tolist())\n",
    "            y_pred.extend(predicted.tolist())\n",
    "\n",
    "            total += labels.size(0)\n",
    "            correct += (predicted == labels).sum().item()\n",
    "\n",
    "            _, predictions = torch.max(outputs, 1)\n",
    "            # Collect the correct predictions for each class\n",
    "            for label, prediction in zip(labels, predictions):\n",
    "                if label == prediction:\n",
    "                    correct_pred[classes[label]] += 1\n",
    "                total_pred[classes[label]] += 1\n",
    "\n",
    "    TOT_ACC = 100 * correct / total\n",
    "    F1 = 100 * f1_score(y_true, y_pred, average='weighted')\n",
    "\n",
    "    print('\\nFinal loss : ',last_loss)\n",
    "    print(f'Unweighted total accuracy on test : {round(TOT_ACC,1)} %')\n",
    "    print(f'Weighted F1-score on test : {round(F1,1)} %')\n",
    "\n",
    "    # Print accuracy for each class\n",
    "    for classname, correct_count in correct_pred.items():\n",
    "        accuracy = 100 * float(correct_count) / total_pred[classname]\n",
    "        print(\"Accuracy for {:5s} is: {:.1f} %\".format(classname, accuracy))\n",
    "    \n",
    "    C = confusion_matrix(y_true, y_pred)\n",
    "    print(f'\\nConfusion matrix :\\n{C}\\n')\n",
    "\n",
    "    if plot :\n",
    "        df_cm = pd.DataFrame(C, index=classes, columns=classes)\n",
    "        plt.figure(figsize=(4.3,4))\n",
    "        sns.heatmap(df_cm, annot=True, cmap='Blues', fmt='g', cbar=False) \n",
    "        plt.title('Confusion matrix')\n",
    "        plt.ylabel('True label'); plt.xlabel('Predicted label')\n",
    "        plt.tight_layout()\n",
    "        plt.show()\n",
    "\n",
    "    return images, y_pred, y_true"
   ]
  },
  {
   "cell_type": "code",
   "execution_count": 4,
   "metadata": {},
   "outputs": [
    {
     "name": "stderr",
     "output_type": "stream",
     "text": [
      "C:\\Users\\rapha\\AppData\\Local\\Temp/ipykernel_32680/3067593023.py:77: FutureWarning: The input object of type 'Tensor' is an array-like implementing one of the corresponding protocols (`__array__`, `__array_interface__` or `__array_struct__`); but not a sequence (or 0-D). In the future, this object will be coerced as if it was first converted using `np.array(obj)`. To retain the old behaviour, you have to either modify the type 'Tensor', or assign to an empty array created with `np.empty(correct_shape, dtype=object)`.\n",
      "  return np.array(data_cov, dtype=object), np.array(data_lapl, dtype=object), np.array(data_labels)\n"
     ]
    }
   ],
   "source": [
    "classes = ['FNSZ','GNSZ']\n",
    "\n",
    "class_dict = {}\n",
    "for i, szr_type in enumerate(classes) :\n",
    "    class_dict[szr_type] = i\n",
    "\n",
    "train_cov, train_lapl, test_cov, test_lapl, train_labels, test_labels = train_test_data(input_cov, input_lapl, class_dict, upper, revert, over_conn)\n",
    "# Turn into a set with the label to feed the dataloader and oversample the least represented class\n",
    "trainset, testset = to_set(train_cov, train_lapl, test_cov, test_lapl, train_labels, test_labels)\n",
    "\n",
    "trainloader = torch.utils.data.DataLoader(trainset, batch_size=batch_size, shuffle=True, num_workers=2)\n",
    "testloader = torch.utils.data.DataLoader(testset, batch_size=batch_size, shuffle=True, num_workers=2)"
   ]
  },
  {
   "cell_type": "code",
   "execution_count": 9,
   "metadata": {},
   "outputs": [
    {
     "data": {
      "text/plain": [
       "Net(\n",
       "  (conv1): Conv2d(2, 6, kernel_size=(3, 3), stride=(1, 1))\n",
       "  (pool1): MaxPool2d(kernel_size=2, stride=2, padding=0, dilation=1, ceil_mode=False)\n",
       "  (pool2): MaxPool2d(kernel_size=2, stride=2, padding=0, dilation=1, ceil_mode=False)\n",
       "  (conv2): Conv2d(6, 16, kernel_size=(3, 3), stride=(1, 1))\n",
       "  (fc1): Linear(in_features=144, out_features=80, bias=True)\n",
       "  (fc2): Linear(in_features=80, out_features=40, bias=True)\n",
       "  (fc3): Linear(in_features=40, out_features=2, bias=True)\n",
       "  (relu1): ReLU()\n",
       "  (relu2): ReLU()\n",
       "  (relu3): ReLU()\n",
       "  (relu4): ReLU()\n",
       "  (dropout1): Dropout(p=0.3, inplace=False)\n",
       "  (dropout2): Dropout(p=0.3, inplace=False)\n",
       "  (dropout3): Dropout(p=0.3, inplace=False)\n",
       "  (dropout4): Dropout(p=0.3, inplace=False)\n",
       ")"
      ]
     },
     "execution_count": 9,
     "metadata": {},
     "output_type": "execute_result"
    }
   ],
   "source": [
    "# Retrieve NN\n",
    "# Retrieve trained CNN\n",
    "#dual_CNN = torch.load('test_dual_CNN.pt')\n",
    "dual_CNN = torch.load('0_73_f1_dual_CNN.pt')\n",
    "dual_CNN.eval()"
   ]
  },
  {
   "cell_type": "code",
   "execution_count": 10,
   "metadata": {},
   "outputs": [
    {
     "name": "stdout",
     "output_type": "stream",
     "text": [
      "\n",
      "Final loss :  0\n",
      "Unweighted total accuracy on test : 74.7 %\n",
      "Weighted F1-score on test : 74.6 %\n",
      "Accuracy for FNSZ  is: 80.2 %\n",
      "Accuracy for GNSZ  is: 65.5 %\n",
      "\n",
      "Confusion matrix :\n",
      "[[231  57]\n",
      " [ 60 114]]\n",
      "\n"
     ]
    }
   ],
   "source": [
    "images, y_pred, y_true = compute_accuracy(testloader, dual_CNN, 0, classes, plot=False)"
   ]
  },
  {
   "cell_type": "code",
   "execution_count": 11,
   "metadata": {},
   "outputs": [],
   "source": [
    "import shap"
   ]
  },
  {
   "cell_type": "code",
   "execution_count": 12,
   "metadata": {},
   "outputs": [],
   "source": [
    "def keep_adj(shap_numpy, test_numpy, x) :\n",
    "    # x = 0 for cov, x = 1 for adjacency matrix, and reshape\n",
    "    shap_numpy_adj= [shap_numpy[i][:,:,:,x].reshape((shap_numpy[0].shape[0],20,20,1)) for i in range(len(shap_numpy))]\n",
    "    test_numpy_adj = test_numpy[:,:,:,x].reshape((test_numpy.shape[0],20,20,1))\n",
    "\n",
    "    return shap_numpy_adj, test_numpy_adj"
   ]
  },
  {
   "cell_type": "code",
   "execution_count": 13,
   "metadata": {},
   "outputs": [],
   "source": [
    "# Turn the list to a tensor\n",
    "images = torch.tensor(np.array(images))\n",
    "\n",
    "# Find matching indices between y_true and y_pred and only pick test images amongst those \n",
    "idx = [i for i in range(len(y_true)) if y_true[i]==y_pred[i]]\n",
    "# Indices of elements of idx, which are themselves indices of FNSZ elements of y_true\n",
    "idx_FNSZ = [i for i  in range(len(idx)) if y_true[idx[i]]==0]\n",
    "# Same with GNSZ\n",
    "idx_GNSZ = [i for i  in range(len(idx)) if y_true[idx[i]]==1]\n",
    "\n",
    "background = images[idx]\n",
    "\n",
    "e = shap.DeepExplainer(dual_CNN, background)"
   ]
  },
  {
   "cell_type": "code",
   "execution_count": 14,
   "metadata": {},
   "outputs": [
    {
     "name": "stderr",
     "output_type": "stream",
     "text": [
      "Using a non-full backward hook when the forward contains multiple autograd Nodes is deprecated and will be removed in future versions. This hook will be missing some grad_input. Please use register_full_backward_hook to get the documented behavior.\n"
     ]
    },
    {
     "name": "stdout",
     "output_type": "stream",
     "text": [
      "True class of graph on the left (top to bottom) : ['FNSZ', 'GNSZ']\n"
     ]
    },
    {
     "data": {
      "image/png": "[encoded data removed]",
      "text/plain": [
       "<Figure size 648x540 with 7 Axes>"
      ]
     },
     "metadata": {
      "needs_background": "light"
     },
     "output_type": "display_data"
    }
   ],
   "source": [
    "tries = random.sample(idx, 2)\n",
    "test_images = images[tries]\n",
    "\n",
    "shap_values_short = e.shap_values(test_images)\n",
    "\n",
    "shap_numpy_short = [np.swapaxes(np.swapaxes(s, 1, -1), 1, 2) for s in shap_values_short]\n",
    "test_numpy_short = np.swapaxes(np.swapaxes(test_images.numpy(), 1, -1), 1, 2)\n",
    "\n",
    "classess = ['FNSZ','GNSZ']\n",
    "im_names = np.vectorize(lambda x : classess[x])([y_true[j] for j in tries]).tolist()\n",
    "# Add im_namees text to the left of the figure\n",
    "labels = np.array(len(test_images)*[classess])\n",
    "\n",
    "shap_numpy_short_adj, test_numpy_short_adj =keep_adj(shap_numpy_short, test_numpy_short, x=1)\n",
    "\n",
    "# plot the feature attributions\n",
    "print('True class of graph on the left (top to bottom) :',im_names)\n",
    "shap.image_plot(shap_numpy_short_adj, -test_numpy_short_adj, labels=labels, labelpad=20)"
   ]
  },
  {
   "cell_type": "code",
   "execution_count": 15,
   "metadata": {},
   "outputs": [],
   "source": [
    "shap_values = e.shap_values(background) # Computationally heavy on all images"
   ]
  },
  {
   "cell_type": "code",
   "execution_count": 16,
   "metadata": {},
   "outputs": [],
   "source": [
    "shap_numpy_adj = [np.swapaxes(np.swapaxes(s, 1, -1), 1, 2)[:,:,:,1] for s in shap_values]\n",
    "\n",
    "# Select the arrays of SHAP values when classifying as FNSZ of the graphs that were rightly classified as FNSZ\n",
    "FNSZ_shaps = shap_numpy_adj[0][idx_FNSZ]\n",
    "# Select the arrays of SHAP values when classifying as GNSZ of the graphs that were rightly classified as GNSZ\n",
    "GNSZ_shaps = shap_numpy_adj[1][idx_GNSZ]\n"
   ]
  },
  {
   "cell_type": "code",
   "execution_count": 17,
   "metadata": {},
   "outputs": [
    {
     "name": "stdout",
     "output_type": "stream",
     "text": [
      "(20, 20)\n",
      "(20, 20)\n"
     ]
    },
    {
     "data": {
      "image/png": "[encoded data removed]",
      "text/plain": [
       "<Figure size 432x288 with 2 Axes>"
      ]
     },
     "metadata": {
      "needs_background": "light"
     },
     "output_type": "display_data"
    }
   ],
   "source": [
    "print(np.sum(GNSZ_shaps,axis=0).shape)\n",
    "\n",
    "fig, ax = plt.subplots(nrows=1, ncols=2)\n",
    "ax[0].imshow(GNSZ_shaps[4], vmin=0, vmax=1)\n",
    "ax[1].imshow(GNSZ_shaps[4]/np.sum(GNSZ_shaps[4]), vmin=0, vmax=1)\n",
    "\n",
    "#plt.imshow(GNSZ_shaps[4])\n",
    "print((GNSZ_shaps[4]/np.sum(GNSZ_shaps[4])).shape)"
   ]
  },
  {
   "cell_type": "code",
   "execution_count": 18,
   "metadata": {},
   "outputs": [],
   "source": [
    "def class_shap_pixels(class_shaps) :\n",
    "    shaps = class_shaps\n",
    "    for i in range(len(class_shaps)) :\n",
    "        \n",
    "        # Detect all the pixels that show a positive \n",
    "        shaps[i] = np.sign(shaps[i])\n",
    "        # ReLU the matrix\n",
    "        shaps[i] = np.maximum(shaps[i], 0)\n",
    "        # Divide by the sum of all elements (to penalise overall contribution of over-connected matrices)\n",
    "        #shaps[i] = shaps[i]/np.sum(shaps[i]) \n",
    "\n",
    "    # Sum all the shap arrays into one\n",
    "    graph = np.sum(shaps,axis=0)\n",
    "\n",
    "    return graph/np.amax(graph.flatten())"
   ]
  },
  {
   "cell_type": "code",
   "execution_count": 50,
   "metadata": {},
   "outputs": [
    {
     "data": {
      "image/png": "[encoded data removed]",
      "text/plain": [
       "<Figure size 432x288 with 2 Axes>"
      ]
     },
     "metadata": {},
     "output_type": "display_data"
    }
   ],
   "source": [
    "S_FNSZ = class_shap_pixels(FNSZ_shaps)\n",
    "S_GNSZ = class_shap_pixels(GNSZ_shaps)\n",
    "\n",
    "fig, ax = plt.subplots(nrows=1, ncols=2)\n",
    "sns.set_theme()\n",
    "ax[0].imshow(S_FNSZ, vmin=0.85, vmax=1, cmap='Reds')\n",
    "ax[0].set_title('FNSZ')\n",
    "ax[0].grid(False)\n",
    "ax[1].imshow(S_GNSZ, vmin=0.85, vmax=1, cmap='Reds')\n",
    "ax[1].set_title('GNSZ')\n",
    "ax[1].grid(False)\n",
    "fig.suptitle('Overall positive contribution to SHAP values by all pixels', y=0.9);"
   ]
  },
  {
   "cell_type": "code",
   "execution_count": 52,
   "metadata": {},
   "outputs": [],
   "source": [
    "channels = np.array(['FP1-F7', 'F7-T3', 'T3-T5', 'T5-O1', \n",
    "                     'FP2-F8', 'F8-T4', 'T4-T6', 'T6-O2', \n",
    "                     'T3-C3', 'C3-CZ', 'CZ-C4', 'C4-T4', \n",
    "                     'FP1-F3', 'F3-C3', 'C3-P3', 'P3-O1', \n",
    "                     'FP2-F4', 'F4-C4', 'C4-P4', 'P4-O2'])"
   ]
  },
  {
   "cell_type": "code",
   "execution_count": 70,
   "metadata": {},
   "outputs": [
    {
     "name": "stdout",
     "output_type": "stream",
     "text": [
      "['T3-T5 x FP2-F8' 'FP1-F7 x F8-T4' 'FP1-F7 x FP2-F8' 'F7-T3 x F8-T4'\n",
      " 'T5-O1 x T4-T6' 'T6-O2 x FP1-F3' 'FP1-F7 x T5-O1' 'F7-T3 x FP2-F8'\n",
      " 'FP1-F7 x T4-T6' 'F7-T3 x T4-T6']\n",
      "{'T6-O2': 10.918552036199095, 'T4-T6': 10.457013574660635, 'T3-T5': 9.900452488687783, 'T5-O1': 9.610859728506789, 'FP1-F7': 9.294117647058822, 'FP2-F8': 9.122171945701359, 'F8-T4': 8.936651583710407, 'T3-C3': 8.823529411764705, 'C3-CZ': 7.981900452488688, 'C3-P3': 7.904977375565612, 'F7-T3': 7.742081447963801, 'P3-O1': 7.58371040723982, 'F3-C3': 7.307692307692308, 'FP1-F3': 6.945701357466062, 'F4-C4': 6.891402714932126, 'CZ-C4': 6.819004524886878, 'FP2-F4': 6.687782805429864, 'C4-T4': 5.190045248868778, 'C4-P4': 0.0, 'P4-O2': 0.0}\n"
     ]
    }
   ],
   "source": [
    "# 1) Build matrix by adding both index strings in each entry and rank the channel couples according to highest pixel in S\n",
    "P = np.empty((20,20), dtype=object)\n",
    "for i in range(P.shape[0]) :\n",
    "    for j in range(P.shape[1]) :\n",
    "        P[i,j] = channels[i]+' x '+channels[j]\n",
    "\n",
    "\n",
    "top_idx_flat = np.argsort(S_FNSZ.flatten())[::-1] # In descending order, highest-valued pixel first\n",
    "ascending_channels = P.flatten()[top_idx_flat]\n",
    "print(ascending_channels[:10]) # Top 10 entries of S_FNSZ\n",
    "\n",
    "# 2) Build dictionary with count for each pair. \n",
    "# For each entry in SHAP summed up matrix S[i,j], add the pixel count to both the 2 channels i and j\n",
    "# Rank channels according to most recurring one\n",
    "\n",
    "def dict_count_channels(channels, S) :\n",
    "    ch_count = {ch: 0 for ch in channels}\n",
    "    # Increase count of all channels appearing in the S matrix\n",
    "    for i in range(20) :\n",
    "        for j in range(20) :\n",
    "            ch_count[channels[i]] += S[i,j]\n",
    "            ch_count[channels[j]] += S[i,j]\n",
    "    # Sort the items according to highest count\n",
    "    return dict(sorted(ch_count.items(), key=lambda item: item[1], reverse=True))\n",
    "\n",
    "ch_count_FNSZ = dict_count_channels(channels, S_FNSZ)\n",
    "ch_count_GNSZ = dict_count_channels(channels, S_GNSZ)\n",
    "print(ch_count_FNSZ)"
   ]
  }
 ],
 "metadata": {
  "interpreter": {
   "hash": "ca02964d08fc28c71d2bf17a5c1f94340d35561783d4e82c93d82793d6a36248"
  },
  "kernelspec": {
   "display_name": "Python 3.9.7 64-bit ('base': conda)",
   "language": "python",
   "name": "python3"
  },
  "language_info": {
   "codemirror_mode": {
    "name": "ipython",
    "version": 3
   },
   "file_extension": ".py",
   "mimetype": "text/x-python",
   "name": "python",
   "nbconvert_exporter": "python",
   "pygments_lexer": "ipython3",
   "version": "3.9.7"
  },
  "orig_nbformat": 4
 },
 "nbformat": 4,
 "nbformat_minor": 2
}
