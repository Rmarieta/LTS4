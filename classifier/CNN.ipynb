{
 "cells": [
  {
   "cell_type": "code",
   "execution_count": 1,
   "metadata": {},
   "outputs": [],
   "source": [
    "import torch\n",
    "import torchvision.transforms as transforms\n",
    "import matplotlib.pyplot as plt\n",
    "import numpy as np\n",
    "import torch.nn as nn\n",
    "import torch.nn.functional as F\n",
    "import torch.optim as optim\n",
    "import argparse\n",
    "import os\n",
    "import matplotlib.pyplot as plt\n",
    "import pandas as pd\n",
    "import math\n",
    "import random\n",
    "from sklearn.metrics import accuracy_score, confusion_matrix, ConfusionMatrixDisplay, f1_score"
   ]
  },
  {
   "cell_type": "code",
   "execution_count": 2,
   "metadata": {},
   "outputs": [],
   "source": [
    "# Change this if using cov matrix (or to keep the adjacency matrix)\n",
    "is_cov = True\n",
    "\n",
    "# Keep data in 2D for 2D convolution of the NN\n",
    "def load_graphs(input_dir, class_dict) :\n",
    "\n",
    "    data, data_labels = [], [] # data containing the graphs and data_labels the associated seizure type labels\n",
    "    i=0\n",
    "    for szr_type in class_dict.keys() :\n",
    "        szr_label = class_dict[szr_type]\n",
    "        for _, _, files in os.walk(os.path.join(input_dir,szr_type)) :\n",
    "            for npy_file in files :\n",
    "                A = np.load(os.path.join(input_dir,szr_type,npy_file))\n",
    "\n",
    "                # Normalise A (already normalised depending on the input)\n",
    "                A = A/np.amax(A.flatten())\n",
    "                if is_cov : \n",
    "                    L = A\n",
    "                else : \n",
    "                    L = np.diag(A*np.ones((A.shape[0],1)))-A\n",
    "                \n",
    "                #L = L[np.triu_indices(20, k = 1)]\n",
    "                L = np.triu(L, 1)\n",
    "                L = torch.tensor(L).view(1,20,20)\n",
    "\n",
    "                data.append(L)\n",
    "                data_labels.append(szr_label)\n",
    "\n",
    "    return np.array(data), np.array(data_labels)\n",
    "\n",
    "def train_test_data(input_dir, class_dict) :\n",
    "\n",
    "    train, train_labels = load_graphs(os.path.join(input_dir,'train'), class_dict)\n",
    "    test, test_labels = load_graphs(os.path.join(input_dir,'dev'), class_dict)\n",
    "\n",
    "    return train, test, train_labels, test_labels"
   ]
  },
  {
   "cell_type": "code",
   "execution_count": 3,
   "metadata": {},
   "outputs": [
    {
     "name": "stderr",
     "output_type": "stream",
     "text": [
      "C:\\Users\\rapha\\AppData\\Local\\Temp/ipykernel_21020/2064234127.py:29: FutureWarning: The input object of type 'Tensor' is an array-like implementing one of the corresponding protocols (`__array__`, `__array_interface__` or `__array_struct__`); but not a sequence (or 0-D). In the future, this object will be coerced as if it was first converted using `np.array(obj)`. To retain the old behaviour, you have to either modify the type 'Tensor', or assign to an empty array created with `np.empty(correct_shape, dtype=object)`.\n",
      "  return np.array(data), np.array(data_labels)\n",
      "C:\\Users\\rapha\\AppData\\Local\\Temp/ipykernel_21020/2064234127.py:29: VisibleDeprecationWarning: Creating an ndarray from ragged nested sequences (which is a list-or-tuple of lists-or-tuples-or ndarrays with different lengths or shapes) is deprecated. If you meant to do this, you must specify 'dtype=object' when creating the ndarray.\n",
      "  return np.array(data), np.array(data_labels)\n"
     ]
    }
   ],
   "source": [
    "# Need to put it as a torch.Size([1, 20, 20])\n",
    "#input_dir = '../data/v1.5.2/graph_unnormal'\n",
    "#input_dir = '../data/v1.5.2/graph_cov_low'\n",
    "input_dir = '../data/v1.5.2/graph_avg_1_5'\n",
    "szr_types = ['FNSZ','GNSZ']\n",
    "\n",
    "class_dict = {}\n",
    "for i, szr_type in enumerate(szr_types) :\n",
    "    class_dict[szr_type] = i\n",
    "\n",
    "train, test, train_labels, test_labels = train_test_data(input_dir, class_dict)"
   ]
  },
  {
   "cell_type": "code",
   "execution_count": 4,
   "metadata": {},
   "outputs": [
    {
     "name": "stdout",
     "output_type": "stream",
     "text": [
      "1536  vs  409\n",
      "3\n",
      "309\n"
     ]
    }
   ],
   "source": [
    "# Oversampling (train set only) to have balanced classification without dropping information\n",
    "PD = pd.DataFrame(train_labels,columns=['label'])\n",
    "no_0, no_1 = len(PD[PD['label']==0]), len(PD[PD['label']==1])\n",
    "print(no_0, ' vs ', no_1)\n",
    "\n",
    "R = math.floor(no_0/no_1)\n",
    "print(R) # Multiply the dataset by this ratio, then add (no_0 - R*no_1) randomly selected entries from the smallest dataset\n",
    "print(no_0 - R*no_1)"
   ]
  },
  {
   "cell_type": "code",
   "execution_count": 5,
   "metadata": {},
   "outputs": [],
   "source": [
    "transform = transforms.Compose([transforms.ToTensor(),transforms.Normalize((0.5, 0.5, 0.5), (0.5, 0.5, 0.5))])\n",
    "\n",
    "batch_size = 50\n",
    "\n",
    "trainset, testset = [], []\n",
    "for i in range(len(train)) :\n",
    "    if train_labels[i] == 1 : # Under-represented class :\n",
    "        # The dataloader later shuffles the data\n",
    "        for r in range(R) :\n",
    "            trainset.append((train[i],train_labels[i]))\n",
    "    else :\n",
    "        trainset.append((train[i],train_labels[i]))\n",
    "\n",
    "# Compensate the remaining imbalance => draw (no_0 - R*no_1) elements from already present elements\n",
    "Add = random.sample(PD[PD['label']==1].index.to_list(),no_0 - R*no_1)\n",
    "for idx in Add :\n",
    "    trainset.append((train[idx],train_labels[idx]))\n",
    "\n",
    "for j in range(len(test)) :\n",
    "    testset.append((test[j],test_labels[j]))\n",
    "    \n",
    "classes = ('FNSZ','GNSZ')\n",
    "\n",
    "#trainset = torchvision.datasets.CIFAR10(root='./data', train=True, download=True, transform=transform)\n",
    "trainloader = torch.utils.data.DataLoader(trainset, batch_size=batch_size, shuffle=True, num_workers=2)\n",
    "\n",
    "#testset = torchvision.datasets.CIFAR10(root='./data', train=False, download=True, transform=transform)\n",
    "testloader = torch.utils.data.DataLoader(testset, batch_size=batch_size, shuffle=False, num_workers=2)"
   ]
  },
  {
   "cell_type": "code",
   "execution_count": 6,
   "metadata": {},
   "outputs": [
    {
     "name": "stdout",
     "output_type": "stream",
     "text": [
      "1536  vs  1536\n"
     ]
    }
   ],
   "source": [
    "len(trainset)\n",
    "tmp_set = []\n",
    "for s in trainset :\n",
    "    tmp_set.append(s[1])\n",
    "\n",
    "PD_tmp = pd.DataFrame(tmp_set,columns=['label'])\n",
    "tmp_0, tmp_1 = len(PD_tmp[PD_tmp['label']==0]), len(PD_tmp[PD_tmp['label']==1])\n",
    "print(tmp_0, ' vs ', tmp_1)"
   ]
  },
  {
   "cell_type": "code",
   "execution_count": 42,
   "metadata": {},
   "outputs": [],
   "source": [
    "\"\"\"\n",
    "class Net(nn.Module):\n",
    "\n",
    "    def __init__(self):\n",
    "        super(Net, self).__init__()\n",
    "        self.conv1 = nn.Conv2d(1, 6, 3)\n",
    "        self.pool = nn.MaxPool2d(2, 2)\n",
    "        self.conv2 = nn.Conv2d(6, 16, 3)\n",
    "        self.fc1 = nn.Linear(16 * 3 * 3, 80)\n",
    "        self.fc2 = nn.Linear(80, 40)\n",
    "        self.fc3 = nn.Linear(40, 2)\n",
    "\n",
    "    def forward(self, x):\n",
    "        x = self.pool(F.relu(self.conv1(x)))\n",
    "        x = self.pool(F.relu(self.conv2(x)))\n",
    "        x = torch.flatten(x, 1)\n",
    "        x = F.relu(self.fc1(x))\n",
    "        x = F.relu(self.fc2(x))\n",
    "        x = self.fc3(x)\n",
    "        return F.softmax(x,dim=1)\n",
    "\"\"\"\n",
    "class Net(nn.Module):\n",
    "\n",
    "    def __init__(self):\n",
    "        super(Net, self).__init__()\n",
    "        self.conv1 = nn.Conv2d(1, 6, 3)\n",
    "        self.pool1 = nn.MaxPool2d(2, 2)\n",
    "        self.pool2 = nn.MaxPool2d(2, 2)\n",
    "        self.conv2 = nn.Conv2d(6, 16, 3)\n",
    "        self.fc1 = nn.Linear(16 * 3 * 3, 80)\n",
    "        self.fc2 = nn.Linear(80, 40)\n",
    "        self.fc3 = nn.Linear(40, 2)\n",
    "        self.relu1 = nn.ReLU()\n",
    "        self.relu2 = nn.ReLU()\n",
    "        self.relu3 = nn.ReLU()\n",
    "        self.relu4 = nn.ReLU()\n",
    "\n",
    "    def forward(self, x):\n",
    "        x = self.pool1(self.relu1(self.conv1(x)))\n",
    "        x = self.pool2(self.relu2(self.conv2(x)))\n",
    "        x = torch.flatten(x, 1)\n",
    "        x = self.relu3(self.fc1(x))\n",
    "        x = self.relu4(self.fc2(x))\n",
    "        x = self.fc3(x)\n",
    "        return F.softmax(x,dim=1)"
   ]
  },
  {
   "cell_type": "code",
   "execution_count": 43,
   "metadata": {},
   "outputs": [
    {
     "name": "stdout",
     "output_type": "stream",
     "text": [
      "Net(\n",
      "  (conv1): Conv2d(1, 6, kernel_size=(3, 3), stride=(1, 1))\n",
      "  (pool1): MaxPool2d(kernel_size=2, stride=2, padding=0, dilation=1, ceil_mode=False)\n",
      "  (pool2): MaxPool2d(kernel_size=2, stride=2, padding=0, dilation=1, ceil_mode=False)\n",
      "  (conv2): Conv2d(6, 16, kernel_size=(3, 3), stride=(1, 1))\n",
      "  (fc1): Linear(in_features=144, out_features=80, bias=True)\n",
      "  (fc2): Linear(in_features=80, out_features=40, bias=True)\n",
      "  (fc3): Linear(in_features=40, out_features=2, bias=True)\n",
      "  (relu1): ReLU()\n",
      "  (relu2): ReLU()\n",
      "  (relu3): ReLU()\n",
      "  (relu4): ReLU()\n",
      ")\n"
     ]
    }
   ],
   "source": [
    "# Run forward pass once and check flattened output dimensions\n",
    "CNN = Net()\n",
    "CNN = CNN.float()\n",
    "print(CNN)"
   ]
  },
  {
   "cell_type": "code",
   "execution_count": 44,
   "metadata": {},
   "outputs": [],
   "source": [
    "gamma = 1e-4\n",
    "loss_criterion = nn.CrossEntropyLoss()\n",
    "optimizer = optim.Adam(CNN.parameters(), lr=gamma)"
   ]
  },
  {
   "cell_type": "code",
   "execution_count": 45,
   "metadata": {},
   "outputs": [
    {
     "name": "stdout",
     "output_type": "stream",
     "text": [
      "Batch_size :  50 \n",
      "Learning rate :  0.0001\n",
      "Epoch : 0, Loss : 0.693102\n",
      "Epoch : 1, Loss : 0.692802\n",
      "Epoch : 2, Loss : 0.692287\n"
     ]
    },
    {
     "name": "stderr",
     "output_type": "stream",
     "text": [
      "Exception ignored in: <function _MultiProcessingDataLoaderIter.__del__ at 0x000002CE744E1550>\n",
      "Traceback (most recent call last):\n",
      "  File \"C:\\Users\\rapha\\anaconda3\\lib\\site-packages\\torch\\utils\\data\\dataloader.py\", line 1328, in __del__\n",
      "    self._shutdown_workers()\n",
      "  File \"C:\\Users\\rapha\\anaconda3\\lib\\site-packages\\torch\\utils\\data\\dataloader.py\", line 1295, in _shutdown_workers\n",
      "    if self._persistent_workers or self._workers_status[worker_id]:\n",
      "AttributeError: '_MultiProcessingDataLoaderIter' object has no attribute '_workers_status'\n"
     ]
    },
    {
     "name": "stdout",
     "output_type": "stream",
     "text": [
      "Epoch : 3, Loss : 0.691403\n",
      "Epoch : 4, Loss : 0.689974\n",
      "Epoch : 5, Loss : 0.687197\n",
      "Epoch : 6, Loss : 0.682599\n",
      "Epoch : 7, Loss : 0.674572\n",
      "Epoch : 8, Loss : 0.663092\n",
      "Epoch : 9, Loss : 0.64596\n",
      "Epoch : 10, Loss : 0.626189\n",
      "Epoch : 11, Loss : 0.608394\n",
      "Epoch : 12, Loss : 0.594122\n",
      "Epoch : 13, Loss : 0.58459\n",
      "Epoch : 14, Loss : 0.57497\n",
      "Epoch : 15, Loss : 0.566462\n",
      "Epoch : 16, Loss : 0.561477\n",
      "Epoch : 17, Loss : 0.554688\n",
      "Epoch : 18, Loss : 0.551764\n",
      "Epoch : 19, Loss : 0.547209\n",
      "Epoch : 20, Loss : 0.544541\n"
     ]
    }
   ],
   "source": [
    "total_L, total_acc = [], []\n",
    "print('Batch_size : ',batch_size,'\\nLearning rate : ',gamma)\n",
    "for epoch in range(5): \n",
    "    i = 0\n",
    "    temp_L = []\n",
    "\n",
    "    correct = 0\n",
    "    total = 0\n",
    "    for data in trainloader:\n",
    "        X, y = data\n",
    "        optimizer.zero_grad()\n",
    "        X, y = X.float(), y.type(torch.LongTensor)\n",
    "        output = CNN(X)\n",
    "\n",
    "        loss = loss_criterion(output, y)\n",
    "        loss.backward()\n",
    "        optimizer.step() \n",
    "        temp_L.append(loss)\n",
    "\n",
    "        i += 1\n",
    "    total_L.append(sum(temp_L)/float(len(temp_L)))\n",
    "    print(f\"Epoch : {epoch}, Loss : {round(total_L[-1].item(),6)}\")\n",
    "    #print('Accuracy of the network on the train graphs : %d %%' % (100 * correct / total))\n"
   ]
  },
  {
   "cell_type": "code",
   "execution_count": null,
   "metadata": {},
   "outputs": [
    {
     "data": {
      "image/png": "[encoded data removed]",
      "text/plain": [
       "<Figure size 432x288 with 1 Axes>"
      ]
     },
     "metadata": {
      "needs_background": "light"
     },
     "output_type": "display_data"
    }
   ],
   "source": [
    "import seaborn as sns\n",
    "\n",
    "L_2 = [T.detach().numpy() for T in total_L]\n",
    "\n",
    "L_2 = np.array(L_2)\n",
    "\n",
    "plt.figure()\n",
    "\n",
    "sns.set()\n",
    "plt.plot(L_2)\n",
    "plt.title('Evolution of the loss')\n",
    "plt.xlabel('Epoch');plt.ylabel('Loss');"
   ]
  },
  {
   "cell_type": "code",
   "execution_count": null,
   "metadata": {},
   "outputs": [
    {
     "name": "stdout",
     "output_type": "stream",
     "text": [
      "Accuracy on test : 64 %\n",
      "Weighted F1-score on test : 65 %\n"
     ]
    }
   ],
   "source": [
    "correct = 0\n",
    "total = 0\n",
    "\n",
    "images = []\n",
    "y_pred, y_true = [], []\n",
    "\n",
    "# since we're not training, we don't need to calculate the gradients for our outputs\n",
    "with torch.no_grad():\n",
    "    for data in testloader:\n",
    "        X_test, labels = data\n",
    "        X_test, labels = X_test.float(), labels.type(torch.LongTensor)\n",
    "        # calculate outputs by running images through the network\n",
    "        outputs = CNN(X_test)\n",
    "\n",
    "        # the class with the highest energy is what we choose as prediction\n",
    "        _, predicted = torch.max(outputs.data, 1)\n",
    "        \n",
    "        images.extend([x.detach().numpy() for x in X_test])\n",
    "        y_true.extend(labels.tolist())\n",
    "        y_pred.extend(predicted.tolist())\n",
    "\n",
    "        total += labels.size(0)\n",
    "        correct += (predicted == labels).sum().item()\n",
    "\n",
    "TOT_ACC = 100 * correct / total\n",
    "F1 = 100 * f1_score(y_true, y_pred, average='weighted')\n",
    "\n",
    "print('Accuracy on test : %d %%' % (TOT_ACC))\n",
    "print('Weighted F1-score on test : %d %%' % (F1))\n"
   ]
  },
  {
   "cell_type": "code",
   "execution_count": 13,
   "metadata": {},
   "outputs": [],
   "source": [
    "# prepare to count predictions for each class\n",
    "classes = ('FNSZ','GNSZ')\n",
    "correct_pred = {classname: 0 for classname in classes}\n",
    "total_pred = {classname: 0 for classname in classes}\n",
    "\n",
    "# again no gradients needed\n",
    "with torch.no_grad():\n",
    "    for data in testloader:\n",
    "        X_test, labels = data\n",
    "        X_test, labels = X_test.float(), labels.type(torch.LongTensor)\n",
    "        outputs = CNN(X_test)\n",
    "        _, predictions = torch.max(outputs, 1)\n",
    "        \n",
    "        # collect the correct predictions for each class\n",
    "        for label, prediction in zip(labels, predictions):\n",
    "            if label == prediction:\n",
    "                correct_pred[classes[label]] += 1\n",
    "            total_pred[classes[label]] += 1"
   ]
  },
  {
   "cell_type": "code",
   "execution_count": 14,
   "metadata": {},
   "outputs": [
    {
     "name": "stdout",
     "output_type": "stream",
     "text": [
      "Final loss :  0.588593\n",
      "Unweighted total accuracy on test : 64.8 %\n",
      "Weighted F1-score on test : 65.1 %\n",
      "Accuracy for FNSZ  is: 68.7 %\n",
      "Accuracy for GNSZ  is: 58.0 %\n"
     ]
    }
   ],
   "source": [
    "print('Final loss : ',round(total_L[-1].item(),6))\n",
    "print(f'Unweighted total accuracy on test : {round(TOT_ACC,1)} %')\n",
    "print(f'Weighted F1-score on test : {round(F1,1)} %')\n",
    "\n",
    "# print accuracy for each class\n",
    "for classname, correct_count in correct_pred.items():\n",
    "    accuracy = 100 * float(correct_count) / total_pred[classname]\n",
    "    print(\"Accuracy for {:5s} is: {:.1f} %\".format(classname, accuracy))"
   ]
  },
  {
   "cell_type": "code",
   "execution_count": 15,
   "metadata": {},
   "outputs": [],
   "source": [
    "import shap"
   ]
  },
  {
   "cell_type": "code",
   "execution_count": 31,
   "metadata": {},
   "outputs": [
    {
     "name": "stderr",
     "output_type": "stream",
     "text": [
      "Using a non-full backward hook when the forward contains multiple autograd Nodes is deprecated and will be removed in future versions. This hook will be missing some grad_input. Please use register_full_backward_hook to get the documented behavior.\n"
     ]
    }
   ],
   "source": [
    "\"\"\"\n",
    "testloader_copy = torch.utils.data.DataLoader(testset, batch_size=200, shuffle=True, num_workers=2)\n",
    "batch = next(iter(testloader_copy)) # testloader has not been shuffled\n",
    "images, im_labels = batch\n",
    "\"\"\"\n",
    "\n",
    "# Turn the list to a tensor\n",
    "images = torch.tensor(np.array(images))\n",
    "\n",
    "# Find matching indices between y_true and y_pred and only pick test images amongst those \n",
    "idx = [i for i in range(len(y_true)) if y_true[i]==y_pred[i]]\n",
    "\n",
    "# Might need to shuffle them after that or succeeding samples will be from same recording and very similar\n",
    "\n",
    "# Compute shap_values on all background, and then only plot some rightly classified with shap_numpy (randomly selected)\n",
    "# Retrieve each classes shap values and find a way to rank pixels according to their contribution to the class\n",
    "# FNSZ_shaps = shap_numpy[0].reshape((len(test_images), 20, 20))\n",
    "# GNSZ_shaps = shap_numpy[1].reshape((len(test_images), 20, 20))\n",
    "\n",
    "background = images[idx] # IMBALANCED !\n",
    "\n",
    "tries = random.sample(idx, 5)\n",
    "test_images = images[tries]\n",
    "\n",
    "e = shap.DeepExplainer(CNN, background)\n",
    "shap_values = e.shap_values(test_images)"
   ]
  },
  {
   "cell_type": "code",
   "execution_count": 32,
   "metadata": {},
   "outputs": [],
   "source": [
    "shap_numpy = [np.swapaxes(np.swapaxes(s, 1, -1), 1, 2) for s in shap_values]\n",
    "test_numpy = np.swapaxes(np.swapaxes(test_images.numpy(), 1, -1), 1, 2)"
   ]
  },
  {
   "cell_type": "code",
   "execution_count": 34,
   "metadata": {},
   "outputs": [],
   "source": [
    "classess = ['FNSZ','GNSZ']\n",
    "im_names = np.vectorize(lambda x : classess[x])([y_true[j] for j in tries]).tolist()\n",
    "# Add im_namees text to the left of the figure\n",
    "labels = np.array(len(test_images)*[classess])"
   ]
  },
  {
   "cell_type": "code",
   "execution_count": 35,
   "metadata": {},
   "outputs": [],
   "source": [
    "FNSZ_shaps = shap_numpy[0].reshape((len(test_images), 20, 20))\n",
    "GNSZ_shaps = shap_numpy[1].reshape((len(test_images), 20, 20))"
   ]
  },
  {
   "cell_type": "code",
   "execution_count": 36,
   "metadata": {},
   "outputs": [
    {
     "name": "stdout",
     "output_type": "stream",
     "text": [
      "['FNSZ', 'FNSZ', 'FNSZ', 'FNSZ', 'FNSZ']\n"
     ]
    },
    {
     "data": {
      "image/png": "[encoded data removed]",
      "text/plain": [
       "<Figure size 648x1080 with 16 Axes>"
      ]
     },
     "metadata": {},
     "output_type": "display_data"
    }
   ],
   "source": [
    "# plot the feature attributions\n",
    "print(im_names)\n",
    "shap.image_plot(shap_numpy, -test_numpy, labels=labels, labelpad=20)\n",
    "\n",
    "# Identify which ax represents which class (and also try to test on images that were positively classified,\n",
    "# or there will be more red than blue on both times for the same class)"
   ]
  },
  {
   "cell_type": "code",
   "execution_count": null,
   "metadata": {},
   "outputs": [],
   "source": []
  }
 ],
 "metadata": {
  "interpreter": {
   "hash": "ca02964d08fc28c71d2bf17a5c1f94340d35561783d4e82c93d82793d6a36248"
  },
  "kernelspec": {
   "display_name": "Python 3.9.7 64-bit ('base': conda)",
   "language": "python",
   "name": "python3"
  },
  "language_info": {
   "codemirror_mode": {
    "name": "ipython",
    "version": 3
   },
   "file_extension": ".py",
   "mimetype": "text/x-python",
   "name": "python",
   "nbconvert_exporter": "python",
   "pygments_lexer": "ipython3",
   "version": "3.9.7"
  },
  "orig_nbformat": 4
 },
 "nbformat": 4,
 "nbformat_minor": 2
}
