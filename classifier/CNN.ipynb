{
 "cells": [
  {
   "cell_type": "code",
   "execution_count": 1,
   "metadata": {},
   "outputs": [],
   "source": [
    "import torch\n",
    "import torchvision\n",
    "import torchvision.transforms as transforms\n",
    "import matplotlib.pyplot as plt\n",
    "import numpy as np\n",
    "import torch.nn as nn\n",
    "import torch.nn.functional as F\n",
    "import torch.optim as optim\n",
    "import argparse\n",
    "import os\n",
    "import numpy as np\n",
    "import matplotlib.pyplot as plt\n",
    "from sklearn.utils import shuffle\n",
    "from matplotlib.colors import ListedColormap\n",
    "import seaborn as sn\n",
    "import pandas as pd\n",
    "import math\n",
    "import random\n",
    "\n",
    "from sklearn.datasets import load_breast_cancer\n",
    "from sklearn.model_selection import train_test_split\n",
    "from sklearn.naive_bayes import GaussianNB\n",
    "from sklearn.neighbors import KNeighborsClassifier\n",
    "from sklearn.linear_model import LogisticRegression\n",
    "from sklearn.metrics import accuracy_score, confusion_matrix, ConfusionMatrixDisplay\n",
    "from sklearn.pipeline import make_pipeline\n",
    "from sklearn.preprocessing import StandardScaler\n",
    "from sklearn.svm import SVC\n",
    "from sklearn.tree import DecisionTreeClassifier"
   ]
  },
  {
   "cell_type": "code",
   "execution_count": 8,
   "metadata": {},
   "outputs": [],
   "source": [
    "# Change this if using cov matrix\n",
    "is_cov = True\n",
    "\n",
    "\n",
    "\n",
    "# Keep data in 2D for 2D convolution of the NN\n",
    "def load_graphs(input_dir, class_dict) :\n",
    "\n",
    "    data, data_labels = [], [] # data containing the graphs and data_labels the associated seizure type labels\n",
    "    i=0\n",
    "    for szr_type in class_dict.keys() :\n",
    "        szr_label = class_dict[szr_type]\n",
    "        for _, _, files in os.walk(os.path.join(input_dir,szr_type)) :\n",
    "            for npy_file in files :\n",
    "                A = np.load(os.path.join(input_dir,szr_type,npy_file))\n",
    "\n",
    "                # Normalise A (already normalised depending on the input)\n",
    "                #A = A/np.amax(A.flatten())\n",
    "                if is_cov : \n",
    "                    L = torch.tensor(A/np.amax(A.flatten())).view(1,20,20)\n",
    "                else : \n",
    "                    L = torch.tensor(np.diag(A*np.ones((A.shape[0],1)))-A).view(1,20,20)\n",
    "                    #L = torch.tensor(A).view(1,20,20)\n",
    "\n",
    "                data.append(L)\n",
    "                data_labels.append(szr_label)\n",
    "\n",
    "    return np.array(data), np.array(data_labels)\n",
    "\n",
    "def train_test_data(input_dir, class_dict) :\n",
    "\n",
    "    train, train_labels = load_graphs(os.path.join(input_dir,'train'), class_dict)\n",
    "    test, test_labels = load_graphs(os.path.join(input_dir,'dev'), class_dict)\n",
    "\n",
    "    return train, test, train_labels, test_labels"
   ]
  },
  {
   "cell_type": "code",
   "execution_count": 9,
   "metadata": {},
   "outputs": [
    {
     "name": "stderr",
     "output_type": "stream",
     "text": [
      "C:\\Users\\rapha\\AppData\\Local\\Temp/ipykernel_14408/2000065660.py:28: FutureWarning: The input object of type 'Tensor' is an array-like implementing one of the corresponding protocols (`__array__`, `__array_interface__` or `__array_struct__`); but not a sequence (or 0-D). In the future, this object will be coerced as if it was first converted using `np.array(obj)`. To retain the old behaviour, you have to either modify the type 'Tensor', or assign to an empty array created with `np.empty(correct_shape, dtype=object)`.\n",
      "  return np.array(data), np.array(data_labels)\n",
      "C:\\Users\\rapha\\AppData\\Local\\Temp/ipykernel_14408/2000065660.py:28: VisibleDeprecationWarning: Creating an ndarray from ragged nested sequences (which is a list-or-tuple of lists-or-tuples-or ndarrays with different lengths or shapes) is deprecated. If you meant to do this, you must specify 'dtype=object' when creating the ndarray.\n",
      "  return np.array(data), np.array(data_labels)\n"
     ]
    }
   ],
   "source": [
    "# Need to put it as a torch.Size([1, 20, 20])\n",
    "input_dir = '../data/v1.5.2/graph_cov'\n",
    "szr_types = ['FNSZ','GNSZ']\n",
    "\n",
    "class_dict = {}\n",
    "for i, szr_type in enumerate(szr_types) :\n",
    "    class_dict[szr_type] = i\n",
    "\n",
    "train, test, train_labels, test_labels = train_test_data(input_dir, class_dict)"
   ]
  },
  {
   "cell_type": "code",
   "execution_count": 10,
   "metadata": {},
   "outputs": [
    {
     "name": "stdout",
     "output_type": "stream",
     "text": [
      "1536  vs  409\n",
      "3\n",
      "309\n"
     ]
    }
   ],
   "source": [
    "# Oversampling (train set only) to have balanced classification without dropping information\n",
    "PD = pd.DataFrame(train_labels,columns=['label'])\n",
    "no_0, no_1 = len(PD[PD['label']==0]), len(PD[PD['label']==1])\n",
    "print(no_0, ' vs ', no_1)\n",
    "\n",
    "R = math.floor(no_0/no_1)\n",
    "print(R) # Multiply the dataset by this ratio, then add (no_0 - R*no_1) randomly selected entries from the smallest dataset\n",
    "print(no_0 - R*no_1)"
   ]
  },
  {
   "cell_type": "code",
   "execution_count": 11,
   "metadata": {},
   "outputs": [],
   "source": [
    "transform = transforms.Compose([transforms.ToTensor(),transforms.Normalize((0.5, 0.5, 0.5), (0.5, 0.5, 0.5))])\n",
    "\n",
    "batch_size = 50\n",
    "\n",
    "trainset, testset = [], []\n",
    "for i in range(len(train)) :\n",
    "    if train_labels[i] == 1 : # Under-represented class :\n",
    "        # The dataloader later shuffles the data\n",
    "        for r in range(R) :\n",
    "            trainset.append((train[i],train_labels[i]))\n",
    "    else :\n",
    "        trainset.append((train[i],train_labels[i]))\n",
    "\n",
    "# Compensate the remaining imbalance => draw (no_0 - R*no_1) elements from already present elements\n",
    "Add = random.sample(PD[PD['label']==1].index.to_list(),no_0 - R*no_1)\n",
    "for idx in Add :\n",
    "    trainset.append((train[idx],train_labels[idx]))\n",
    "\n",
    "for j in range(len(test)) :\n",
    "    testset.append((test[j],test_labels[j]))\n",
    "classes = ('FNSZ','GNSZ')\n",
    "\n",
    "#trainset = torchvision.datasets.CIFAR10(root='./data', train=True, download=True, transform=transform)\n",
    "trainloader = torch.utils.data.DataLoader(trainset, batch_size=batch_size, shuffle=True, num_workers=2)\n",
    "\n",
    "#testset = torchvision.datasets.CIFAR10(root='./data', train=False, download=True, transform=transform)\n",
    "testloader = torch.utils.data.DataLoader(testset, batch_size=batch_size, shuffle=False, num_workers=2)"
   ]
  },
  {
   "cell_type": "code",
   "execution_count": 12,
   "metadata": {},
   "outputs": [
    {
     "name": "stdout",
     "output_type": "stream",
     "text": [
      "1536  vs  1536\n"
     ]
    }
   ],
   "source": [
    "len(trainset)\n",
    "tmp_set = []\n",
    "for s in trainset :\n",
    "    tmp_set.append(s[1])\n",
    "\n",
    "PD_tmp = pd.DataFrame(tmp_set,columns=['label'])\n",
    "tmp_0, tmp_1 = len(PD_tmp[PD_tmp['label']==0]), len(PD_tmp[PD_tmp['label']==1])\n",
    "print(tmp_0, ' vs ', tmp_1)"
   ]
  },
  {
   "cell_type": "code",
   "execution_count": 13,
   "metadata": {},
   "outputs": [],
   "source": [
    "class Net(nn.Module):\n",
    "\n",
    "    def __init__(self):\n",
    "        super(Net, self).__init__()\n",
    "        self.conv1 = nn.Conv2d(1, 6, 3)\n",
    "        self.pool = nn.MaxPool2d(2, 2)\n",
    "        self.conv2 = nn.Conv2d(6, 16, 3)\n",
    "        self.fc1 = nn.Linear(16 * 3 * 3, 80)\n",
    "        self.fc2 = nn.Linear(80, 40)\n",
    "        self.fc3 = nn.Linear(40, 2)\n",
    "\n",
    "    def forward(self, x):\n",
    "        x = self.pool(F.relu(self.conv1(x)))\n",
    "        x = self.pool(F.relu(self.conv2(x)))\n",
    "        x = torch.flatten(x, 1)\n",
    "        x = F.relu(self.fc1(x))\n",
    "        x = F.relu(self.fc2(x))\n",
    "        x = self.fc3(x)\n",
    "        return F.softmax(x,dim=1)"
   ]
  },
  {
   "cell_type": "code",
   "execution_count": 109,
   "metadata": {},
   "outputs": [],
   "source": [
    "\"\"\"\n",
    "class Net_2(nn.Module):\n",
    "    def __init__(self):\n",
    "        super().__init__()\n",
    "        self.conv1 = nn.Conv2d(3, 6, 5)\n",
    "        self.pool = nn.MaxPool2d(2, 2)\n",
    "        self.conv2 = nn.Conv2d(6, 16, 5)\n",
    "        self.fc1 = nn.Linear(16 * 5 * 5, 120)\n",
    "        self.fc2 = nn.Linear(120, 84)\n",
    "        self.fc3 = nn.Linear(84, 10)\n",
    "\n",
    "    def forward(self, x):\n",
    "        x = self.pool(F.relu(self.conv1(x)))\n",
    "        x = self.pool(F.relu(self.conv2(x)))\n",
    "        print('Before : ',x.shape)\n",
    "        x = torch.flatten(x, 1) # flatten all dimensions except batch\n",
    "        print('After : ',x.shape)\n",
    "        x = F.relu(self.fc1(x))\n",
    "        x = F.relu(self.fc2(x))\n",
    "        x = self.fc3(x)\n",
    "        return x\n",
    "\n",
    "CNN = Net_2()\n",
    "CNN = CNN.float()\n",
    "criterion = nn.CrossEntropyLoss()\n",
    "optimizer = optim.SGD(CNN.parameters(), lr=0.001, momentum=0.9)\n",
    "\"\"\""
   ]
  },
  {
   "cell_type": "code",
   "execution_count": 14,
   "metadata": {},
   "outputs": [
    {
     "name": "stdout",
     "output_type": "stream",
     "text": [
      "Net(\n",
      "  (conv1): Conv2d(1, 6, kernel_size=(3, 3), stride=(1, 1))\n",
      "  (pool): MaxPool2d(kernel_size=2, stride=2, padding=0, dilation=1, ceil_mode=False)\n",
      "  (conv2): Conv2d(6, 16, kernel_size=(3, 3), stride=(1, 1))\n",
      "  (fc1): Linear(in_features=144, out_features=80, bias=True)\n",
      "  (fc2): Linear(in_features=80, out_features=40, bias=True)\n",
      "  (fc3): Linear(in_features=40, out_features=2, bias=True)\n",
      ")\n"
     ]
    }
   ],
   "source": [
    "# Run forward pass once and check flattened output dimensions\n",
    "CNN = Net()\n",
    "CNN = CNN.float()\n",
    "print(CNN)"
   ]
  },
  {
   "cell_type": "code",
   "execution_count": 15,
   "metadata": {},
   "outputs": [],
   "source": [
    "gamma = 1e-3\n",
    "loss_criterion = nn.CrossEntropyLoss()\n",
    "optimizer = optim.Adam(CNN.parameters(), lr=gamma)"
   ]
  },
  {
   "cell_type": "code",
   "execution_count": 16,
   "metadata": {},
   "outputs": [
    {
     "name": "stdout",
     "output_type": "stream",
     "text": [
      "Batch_size :  50 \n",
      "Learning rate :  0.001\n",
      "Loss : 0.6891077160835266, epoch(0)\n",
      "Loss : 0.6557658910751343, epoch(1)\n",
      "Loss : 0.5904942750930786, epoch(2)\n",
      "Loss : 0.5428089499473572, epoch(3)\n",
      "Loss : 0.5102620124816895, epoch(4)\n",
      "Loss : 0.4900554120540619, epoch(5)\n",
      "Loss : 0.4811805784702301, epoch(6)\n",
      "Loss : 0.4732778072357178, epoch(7)\n",
      "Loss : 0.4581840932369232, epoch(8)\n",
      "Loss : 0.456801176071167, epoch(9)\n",
      "Loss : 0.4491698741912842, epoch(10)\n",
      "Loss : 0.4436311721801758, epoch(11)\n",
      "Loss : 0.4361294209957123, epoch(12)\n",
      "Loss : 0.4276951849460602, epoch(13)\n",
      "Loss : 0.4242873787879944, epoch(14)\n",
      "Loss : 0.4240277111530304, epoch(15)\n",
      "Loss : 0.41870972514152527, epoch(16)\n",
      "Loss : 0.41237738728523254, epoch(17)\n",
      "Loss : 0.40945667028427124, epoch(18)\n",
      "Loss : 0.4035682678222656, epoch(19)\n",
      "Loss : 0.3992651104927063, epoch(20)\n",
      "Loss : 0.3975840210914612, epoch(21)\n",
      "Loss : 0.3954389989376068, epoch(22)\n",
      "Loss : 0.39201825857162476, epoch(23)\n",
      "Loss : 0.3986901342868805, epoch(24)\n",
      "Loss : 0.40271931886672974, epoch(25)\n",
      "Loss : 0.38663017749786377, epoch(26)\n",
      "Loss : 0.38436487317085266, epoch(27)\n",
      "Loss : 0.3826274275779724, epoch(28)\n",
      "Loss : 0.385839581489563, epoch(29)\n",
      "Loss : 0.38041406869888306, epoch(30)\n",
      "Loss : 0.3830236494541168, epoch(31)\n",
      "Loss : 0.3769151270389557, epoch(32)\n",
      "Loss : 0.37995073199272156, epoch(33)\n",
      "Loss : 0.37905290722846985, epoch(34)\n",
      "Loss : 0.3787693679332733, epoch(35)\n",
      "Loss : 0.3789379596710205, epoch(36)\n",
      "Loss : 0.37417441606521606, epoch(37)\n",
      "Loss : 0.3769330382347107, epoch(38)\n",
      "Loss : 0.37678062915802, epoch(39)\n",
      "Loss : 0.3785869777202606, epoch(40)\n",
      "Loss : 0.37354010343551636, epoch(41)\n",
      "Loss : 0.37209442257881165, epoch(42)\n",
      "Loss : 0.3743407130241394, epoch(43)\n",
      "Loss : 0.37737616896629333, epoch(44)\n",
      "Loss : 0.3765222728252411, epoch(45)\n",
      "Loss : 0.3814220130443573, epoch(46)\n",
      "Loss : 0.37253695726394653, epoch(47)\n",
      "Loss : 0.3672735393047333, epoch(48)\n",
      "Loss : 0.3713048994541168, epoch(49)\n",
      "Loss : 0.36888694763183594, epoch(50)\n",
      "Loss : 0.36736634373664856, epoch(51)\n",
      "Loss : 0.3721708059310913, epoch(52)\n",
      "Loss : 0.37009692192077637, epoch(53)\n",
      "Loss : 0.3658027648925781, epoch(54)\n",
      "Loss : 0.36477550864219666, epoch(55)\n",
      "Loss : 0.3652198910713196, epoch(56)\n",
      "Loss : 0.3624817728996277, epoch(57)\n",
      "Loss : 0.37143048644065857, epoch(58)\n",
      "Loss : 0.3813268542289734, epoch(59)\n",
      "Loss : 0.3680294454097748, epoch(60)\n",
      "Loss : 0.3703429698944092, epoch(61)\n",
      "Loss : 0.3700440526008606, epoch(62)\n",
      "Loss : 0.3723178803920746, epoch(63)\n",
      "Loss : 0.3649252653121948, epoch(64)\n",
      "Loss : 0.3642595112323761, epoch(65)\n",
      "Loss : 0.3670409023761749, epoch(66)\n",
      "Loss : 0.3642047643661499, epoch(67)\n",
      "Loss : 0.3643839955329895, epoch(68)\n",
      "Loss : 0.3642958104610443, epoch(69)\n",
      "Loss : 0.36301717162132263, epoch(70)\n",
      "Loss : 0.3612675368785858, epoch(71)\n",
      "Loss : 0.3636460602283478, epoch(72)\n",
      "Loss : 0.3619356155395508, epoch(73)\n",
      "Loss : 0.3637421429157257, epoch(74)\n",
      "Loss : 0.3622916638851166, epoch(75)\n",
      "Loss : 0.3605092167854309, epoch(76)\n",
      "Loss : 0.3605419099330902, epoch(77)\n",
      "Loss : 0.36025288701057434, epoch(78)\n",
      "Loss : 0.3623714745044708, epoch(79)\n",
      "Loss : 0.36366769671440125, epoch(80)\n",
      "Loss : 0.36558303236961365, epoch(81)\n",
      "Loss : 0.36609676480293274, epoch(82)\n",
      "Loss : 0.36474740505218506, epoch(83)\n",
      "Loss : 0.36316654086112976, epoch(84)\n",
      "Loss : 0.36212465167045593, epoch(85)\n",
      "Loss : 0.35842233896255493, epoch(86)\n",
      "Loss : 0.36548516154289246, epoch(87)\n",
      "Loss : 0.3666086494922638, epoch(88)\n",
      "Loss : 0.36044901609420776, epoch(89)\n",
      "Loss : 0.3666808009147644, epoch(90)\n",
      "Loss : 0.376693993806839, epoch(91)\n",
      "Loss : 0.3667965233325958, epoch(92)\n",
      "Loss : 0.36069226264953613, epoch(93)\n",
      "Loss : 0.3601286709308624, epoch(94)\n",
      "Loss : 0.36177605390548706, epoch(95)\n",
      "Loss : 0.36038297414779663, epoch(96)\n",
      "Loss : 0.3666384518146515, epoch(97)\n",
      "Loss : 0.36395153403282166, epoch(98)\n",
      "Loss : 0.36493411660194397, epoch(99)\n"
     ]
    }
   ],
   "source": [
    "total_L, total_acc = [], []\n",
    "print('Batch_size : ',batch_size,'\\nLearning rate : ',gamma)\n",
    "for epoch in range(100): \n",
    "    i = 0\n",
    "    temp_L = []\n",
    "\n",
    "    correct = 0\n",
    "    total = 0\n",
    "    for data in trainloader:\n",
    "        X, y = data\n",
    "        optimizer.zero_grad()\n",
    "        X, y = X.float(), y.type(torch.LongTensor)\n",
    "        output = CNN(X)\n",
    "        #if i == 0 : print(output.data[:2])\n",
    "        loss = loss_criterion(output, y)\n",
    "        # Compute accuracy another way as the output is weights + bias and is continuous\n",
    "        # total_acc.append(accuracy_score(output.detach().numpy(),y.detach().numpy()))\n",
    "        loss.backward()\n",
    "        optimizer.step() \n",
    "        temp_L.append(loss)\n",
    "\n",
    "        # the class with the highest energy is what we choose as prediction\n",
    "\n",
    "        #\n",
    "        # !!!!\n",
    "        #\n",
    "\n",
    "        \"\"\"        _, predicted = torch.max(output.data, 1)\n",
    "        total += y.size(0)\n",
    "        correct += (predicted == y).sum().item()\"\"\"\n",
    "\n",
    "        i += 1\n",
    "    total_L.append(sum(temp_L)/float(len(temp_L)))\n",
    "    print(f\"Loss : {total_L[-1]}, epoch({epoch})\")\n",
    "    #print('Accuracy of the network on the train graphs : %d %%' % (100 * correct / total))\n"
   ]
  },
  {
   "cell_type": "code",
   "execution_count": 18,
   "metadata": {},
   "outputs": [
    {
     "data": {
      "text/plain": [
       "Text(0, 0.5, 'Loss')"
      ]
     },
     "execution_count": 18,
     "metadata": {},
     "output_type": "execute_result"
    },
    {
     "data": {
      "image/png": "[encoded data removed]",
      "text/plain": [
       "<Figure size 432x288 with 1 Axes>"
      ]
     },
     "metadata": {},
     "output_type": "display_data"
    }
   ],
   "source": [
    "L_2 = [T.detach().numpy() for T in total_L]\n",
    "\n",
    "L_2 = np.array(L_2)\n",
    "\n",
    "plt.figure()\n",
    "import seaborn as sns\n",
    "sns.set()\n",
    "plt.plot(L_2)\n",
    "plt.title('Evolution of the loss')\n",
    "plt.xlabel('Epoch');plt.ylabel('Loss')"
   ]
  },
  {
   "cell_type": "code",
   "execution_count": 19,
   "metadata": {},
   "outputs": [
    {
     "name": "stdout",
     "output_type": "stream",
     "text": [
      "Accuracy of the network on the test graphs : 55 %\n"
     ]
    }
   ],
   "source": [
    "correct = 0\n",
    "total = 0\n",
    "# since we're not training, we don't need to calculate the gradients for our outputs\n",
    "with torch.no_grad():\n",
    "    for data in testloader:\n",
    "        X_test, labels = data\n",
    "        X_test, labels = X_test.float(), labels.type(torch.LongTensor)\n",
    "        # calculate outputs by running images through the network\n",
    "        outputs = CNN(X_test)\n",
    "\n",
    "        # the class with the highest energy is what we choose as prediction\n",
    "        _, predicted = torch.max(outputs.data, 1)\n",
    "        total += labels.size(0)\n",
    "        correct += (predicted == labels).sum().item()\n",
    "        \n",
    "print('Accuracy of the network on the test graphs : %d %%' % (\n",
    "    100 * correct / total))"
   ]
  },
  {
   "cell_type": "code",
   "execution_count": 20,
   "metadata": {},
   "outputs": [
    {
     "name": "stdout",
     "output_type": "stream",
     "text": [
      "Accuracy for class FNSZ  is: 81.7 %\n",
      "Accuracy for class GNSZ  is: 11.5 %\n"
     ]
    }
   ],
   "source": [
    "# prepare to count predictions for each class\n",
    "classes = ('FNSZ','GNSZ')\n",
    "correct_pred = {classname: 0 for classname in classes}\n",
    "total_pred = {classname: 0 for classname in classes}\n",
    "\n",
    "# again no gradients needed\n",
    "with torch.no_grad():\n",
    "    for data in testloader:\n",
    "        X_test, labels = data\n",
    "        X_test, labels = X_test.float(), labels.type(torch.LongTensor)\n",
    "        outputs = CNN(X_test)\n",
    "        _, predictions = torch.max(outputs, 1)\n",
    "        #print(outputs.shape)\n",
    "        #print(torch.max(outputs, 1)[1].shape)\n",
    "        # collect the correct predictions for each class\n",
    "        for label, prediction in zip(labels, predictions):\n",
    "            if label == prediction:\n",
    "                correct_pred[classes[label]] += 1\n",
    "            total_pred[classes[label]] += 1\n",
    "\n",
    "\n",
    "# print accuracy for each class\n",
    "for classname, correct_count in correct_pred.items():\n",
    "    accuracy = 100 * float(correct_count) / total_pred[classname]\n",
    "    print(\"Accuracy for class {:5s} is: {:.1f} %\".format(classname,\n",
    "                                                   accuracy))"
   ]
  },
  {
   "cell_type": "code",
   "execution_count": null,
   "metadata": {},
   "outputs": [],
   "source": []
  }
 ],
 "metadata": {
  "interpreter": {
   "hash": "ca02964d08fc28c71d2bf17a5c1f94340d35561783d4e82c93d82793d6a36248"
  },
  "kernelspec": {
   "display_name": "Python 3.9.7 64-bit ('base': conda)",
   "language": "python",
   "name": "python3"
  },
  "language_info": {
   "codemirror_mode": {
    "name": "ipython",
    "version": 3
   },
   "file_extension": ".py",
   "mimetype": "text/x-python",
   "name": "python",
   "nbconvert_exporter": "python",
   "pygments_lexer": "ipython3",
   "version": "3.9.7"
  },
  "orig_nbformat": 4
 },
 "nbformat": 4,
 "nbformat_minor": 2
}
