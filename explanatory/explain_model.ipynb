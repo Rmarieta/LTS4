{
 "cells": [
  {
   "cell_type": "code",
   "execution_count": 1,
   "metadata": {},
   "outputs": [],
   "source": [
    "import shap\n",
    "import numpy as np\n",
    "import torch\n",
    "import os"
   ]
  },
  {
   "cell_type": "code",
   "execution_count": null,
   "metadata": {},
   "outputs": [],
   "source": [
    "# Retrieved saved model + re-open data train and test\n",
    "is_cov = False\n",
    "\n",
    "def load_graphs(input_dir, class_dict) :\n",
    "\n",
    "    data, data_labels = [], [] # data containing the graphs and data_labels the associated seizure type labels\n",
    "    i=0\n",
    "    for szr_type in class_dict.keys() :\n",
    "        szr_label = class_dict[szr_type]\n",
    "        for _, _, files in os.walk(os.path.join(input_dir,szr_type)) :\n",
    "            for npy_file in files :\n",
    "                A = np.load(os.path.join(input_dir,szr_type,npy_file))\n",
    "\n",
    "                # Normalise A (already normalised depending on the input)\n",
    "                A = A/np.amax(A.flatten())\n",
    "                if is_cov : \n",
    "                    L = torch.tensor(A).view(1,20,20)\n",
    "                else : \n",
    "                    L = torch.tensor(np.diag(A*np.ones((A.shape[0],1)))-A).view(1,20,20)\n",
    "                    #L = torch.tensor(A).view(1,20,20)\n",
    "\n",
    "                data.append(L)\n",
    "                data_labels.append(szr_label)\n",
    "\n",
    "    return np.array(data), np.array(data_labels)\n",
    "\n",
    "def train_test_data(input_dir, class_dict) :\n",
    "\n",
    "    train, train_labels = load_graphs(os.path.join(input_dir,'train'), class_dict)\n",
    "    test, test_labels = load_graphs(os.path.join(input_dir,'dev'), class_dict)\n",
    "\n",
    "    return train, test, train_labels, test_labels\n",
    "\n",
    "# Retrieve trained CNN\n",
    "model = torch.load('low_lapl_50_CNN.pt')\n",
    "model.eval()\n",
    "\n",
    "input_dir = '../data/v1.5.2/graph_lapl_nolow'"
   ]
  }
 ],
 "metadata": {
  "interpreter": {
   "hash": "ca02964d08fc28c71d2bf17a5c1f94340d35561783d4e82c93d82793d6a36248"
  },
  "kernelspec": {
   "display_name": "Python 3.9.7 64-bit ('base': conda)",
   "language": "python",
   "name": "python3"
  },
  "language_info": {
   "codemirror_mode": {
    "name": "ipython",
    "version": 3
   },
   "file_extension": ".py",
   "mimetype": "text/x-python",
   "name": "python",
   "nbconvert_exporter": "python",
   "pygments_lexer": "ipython3",
   "version": "3.9.7"
  },
  "orig_nbformat": 4
 },
 "nbformat": 4,
 "nbformat_minor": 2
}
